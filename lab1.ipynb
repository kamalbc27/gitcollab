{
  "nbformat": 4,
  "nbformat_minor": 0,
  "metadata": {
    "colab": {
      "provenance": [],
      "authorship_tag": "ABX9TyNLvc/OttjCDXgetviUProE",
      "include_colab_link": true
    },
    "kernelspec": {
      "name": "python3",
      "display_name": "Python 3"
    },
    "language_info": {
      "name": "python"
    }
  },
  "cells": [
    {
      "cell_type": "markdown",
      "metadata": {
        "id": "view-in-github",
        "colab_type": "text"
      },
      "source": [
        "<a href=\"https://colab.research.google.com/github/kamalbc27/gitcollab/blob/main/lab1.ipynb\" target=\"_parent\"><img src=\"https://colab.research.google.com/assets/colab-badge.svg\" alt=\"Open In Colab\"/></a>"
      ]
    },
    {
      "cell_type": "markdown",
      "source": [],
      "metadata": {
        "id": "PKYh-ubor-nw"
      }
    },
    {
      "cell_type": "markdown",
      "source": [],
      "metadata": {
        "id": "k-mWlHzhr_Gt"
      }
    },
    {
      "cell_type": "code",
      "execution_count": 6,
      "metadata": {
        "colab": {
          "base_uri": "https://localhost:8080/"
        },
        "id": "fYFboMiNqagx",
        "outputId": "d9838c5d-f494-4864-a4a2-4a4bd0b07dc1"
      },
      "outputs": [
        {
          "output_type": "stream",
          "name": "stdout",
          "text": [
            "Following is the Breadth First Traversal starting from Pokhara:\n",
            "Pokhara -> Kathmandu -> Butwal -> Lumbini -> Koshi\n"
          ]
        }
      ],
      "source": [
        "import collections\n",
        "# Define the graph using a dictionary\n",
        "graph = {\n",
        " 'Pokhara': ['Kathmandu', 'Butwal'],  'Kathmandu': ['Pokhara', 'Lumbini'],  'Butwal': ['Pokhara', 'Koshi'],  'Lumbini': ['Kathmandu'],\n",
        " 'Koshi': ['Butwal']\n",
        "}\n",
        "def bfs(graph, start):\n",
        " visited = set() # Set to keep track of visited nodes\n",
        " queue = collections.deque([start]) # Queue for BFS\n",
        " visited.add(start) # Mark the start node as visited\n",
        " result = [] # List to store the order of traversal\n",
        " while queue:\n",
        "     vertex = queue.popleft() # Dequeue a vertex from queue\n",
        "     result.append(vertex) # Append current vertex to result\n",
        "     # Enqueue all unvisited neighbors\n",
        "     for neighbour in graph[vertex]:\n",
        "         if neighbour not in visited: # Indented this line to be part of the for loop\n",
        "             visited.add(neighbour)\n",
        "             queue.append(neighbour)\n",
        " return result # Return the result of traversal\n",
        "# Start BFS from 'Pokhara'\n",
        "traversal_result = bfs(graph, 'Pokhara')\n",
        "print(\"Following is the Breadth First Traversal starting from Pokhara:\")\n",
        "print(\" -> \".join(traversal_result))  # Join results with arrows for clarity"
      ]
    },
    {
      "source": [
        "# Create datasets import collections\n",
        "# Define the graph using a dictionary\n",
        "graph = {\n",
        " 'Pokhara': ['Kathmandu', 'Butwal'],  'Kathmandu': ['Pokhara', 'Lumbini'],  'Butwal': ['Pokhara', 'Koshi'],  'Lumbini': ['Kathmandu'],\n",
        " 'Koshi': ['Butwal']\n",
        "}\n",
        "def dfs(graph, start):\n",
        "    stack = [start] # Initialize stack with the starting vertex\n",
        "    visited = set() # Set to keep track of visited nodes\n",
        "    result = [] # List to store the order of traversal\n",
        "    while stack:\n",
        "        vertex = stack.pop() # Pop a vertex from the stack\n",
        "        if vertex not in visited:\n",
        "            visited.add(vertex) # Mark as visited\n",
        "            result.append(vertex) # Append to result\n",
        "            for neighbour in reversed(graph[vertex]): # Reverse to maintain order  if neighbour not in visited:\n",
        "                stack.append(neighbour)\n",
        "    return result # Return the result of traversal # Corrected indentation\n",
        "# Start DFS from 'Pokhara'\n",
        "traversal_result = dfs(graph, 'Pokhara')\n",
        "print(\"Following is the Depth First Traversal starting from Pokhara:\")\n",
        "print(\" -> \".join(traversal_result))"
      ],
      "cell_type": "code",
      "metadata": {
        "colab": {
          "base_uri": "https://localhost:8080/"
        },
        "id": "8npMGyr5v8UH",
        "outputId": "3ac42cf8-2afc-45d9-cb7d-d495d426357e"
      },
      "execution_count": 8,
      "outputs": [
        {
          "output_type": "stream",
          "name": "stdout",
          "text": [
            "Following is the Depth First Traversal starting from Pokhara:\n",
            "Pokhara -> Kathmandu -> Lumbini -> Butwal -> Koshi\n"
          ]
        }
      ]
    },
    {
      "source": [
        "# Define the graph using a dictionary\n",
        "graph = {\n",
        " 'Pokhara': ['Kathmandu', 'Butwal'],  'Kathmandu': ['Pokhara', 'Lumbini'],  'Butwal': ['Pokhara', 'Koshi'],  'Lumbini': ['Kathmandu'],\n",
        " 'Koshi': ['Butwal']\n",
        "}\n",
        "def depth_limited_search(graph, start, limit):\n",
        "    stack = [(start, 0)] # Initialize stack with (vertex, current depth)\n",
        "    visited = set() # Set to keep track of visited nodes\n",
        "    result = [] # List to store the order of traversal\n",
        "    while stack:\n",
        "        vertex, depth = stack.pop() # Pop a vertex and its depth from the stack\n",
        "        if depth > limit:\n",
        "            continue # Skip if current depth exceeds limit\n",
        "        if vertex not in visited:\n",
        "            visited.add(vertex) # Mark as visited\n",
        "            result.append(vertex) # Append to result\n",
        "\n",
        "        for neighbour in reversed(graph[vertex]): # Reverse to maintain order\n",
        "            if neighbour not in visited:\n",
        "                stack.append((neighbour, depth + 1))\n",
        "    return result # Return the result of traversal was outside of while loop before\n",
        "    # Start DLS from 'Pokhara'\n",
        "# Call the function using its defined name 'depth_limited_search' and provide a limit\n",
        "traversal_result = depth_limited_search(graph, 'Pokhara', 2)  # Example limit of 2\n",
        "print(\"Following is the Depth Limited Traversal starting from Pokhara:\")\n",
        "print(\" -> \".join(traversal_result))"
      ],
      "cell_type": "code",
      "metadata": {
        "colab": {
          "base_uri": "https://localhost:8080/"
        },
        "id": "CPeVh29-xwuC",
        "outputId": "edbdcdc1-405a-44bc-acd6-d18504fd4a18"
      },
      "execution_count": 13,
      "outputs": [
        {
          "output_type": "stream",
          "name": "stdout",
          "text": [
            "Following is the Depth Limited Traversal starting from Pokhara:\n",
            "Pokhara -> Kathmandu -> Lumbini -> Butwal -> Koshi\n"
          ]
        }
      ]
    }
  ]
}